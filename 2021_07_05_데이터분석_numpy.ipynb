{
  "nbformat": 4,
  "nbformat_minor": 0,
  "metadata": {
    "colab": {
      "name": "2021_07_05_데이터분석_numpy.ipynb",
      "provenance": [],
      "collapsed_sections": []
    },
    "kernelspec": {
      "name": "python3",
      "display_name": "Python 3"
    },
    "language_info": {
      "name": "python"
    }
  },
  "cells": [
    {
      "cell_type": "markdown",
      "metadata": {
        "id": "lW4_kbdoS0Ce"
      },
      "source": [
        "# '데이터 분석 numpy 기초 문법 노트북'\n",
        "> '2021년 여름방학 데이터분석을 위한 numpy 기초문법'\n",
        "\n",
        "\n",
        "- toc : true\n",
        "- branch : master\n",
        "- badges : true\n",
        "- comments : true\n",
        "- author : kang a-hyeon\n",
        "- categories : [python, 데이터분석, numpy]"
      ]
    },
    {
      "cell_type": "code",
      "metadata": {
        "colab": {
          "base_uri": "https://localhost:8080/"
        },
        "id": "iRMnFWCsUo_-",
        "outputId": "8e836fef-c87b-4f09-df14-445bfacf4570"
      },
      "source": [
        "리스트 = [[1, 2, 3], [4, 5, 6], [7, 8, 9]]\n",
        "리스트[0][0]\n",
        "리스트[0]\n",
        "리스트[2][0]\n",
        "리스트 * 2"
      ],
      "execution_count": 4,
      "outputs": [
        {
          "output_type": "execute_result",
          "data": {
            "text/plain": [
              "[[1, 2, 3], [4, 5, 6], [7, 8, 9], [1, 2, 3], [4, 5, 6], [7, 8, 9]]"
            ]
          },
          "metadata": {
            "tags": []
          },
          "execution_count": 4
        }
      ]
    },
    {
      "cell_type": "code",
      "metadata": {
        "colab": {
          "base_uri": "https://localhost:8080/"
        },
        "id": "_M7GuhJPVc79",
        "outputId": "16733acf-7e7f-41fc-a402-ab7c0e9bfeca"
      },
      "source": [
        "import numpy as np\n",
        "\n",
        "리스트 = [[1, 2, 3], [4, 5, 6], [7, 8, 9]]\n",
        "리스트 = np.array(리스트)\n",
        "리스트 * 2\n",
        "리스트 + 100"
      ],
      "execution_count": 7,
      "outputs": [
        {
          "output_type": "execute_result",
          "data": {
            "text/plain": [
              "array([[101, 102, 103],\n",
              "       [104, 105, 106],\n",
              "       [107, 108, 109]])"
            ]
          },
          "metadata": {
            "tags": []
          },
          "execution_count": 7
        }
      ]
    },
    {
      "cell_type": "code",
      "metadata": {
        "colab": {
          "base_uri": "https://localhost:8080/"
        },
        "id": "CCUuhq6wV4qF",
        "outputId": "8fffe6a8-38e5-4d35-e8cb-40a1bb7fa39f"
      },
      "source": [
        "a = np.arange(15).reshape(3, 5)  \n",
        "a"
      ],
      "execution_count": 9,
      "outputs": [
        {
          "output_type": "execute_result",
          "data": {
            "text/plain": [
              "array([[ 0,  1,  2,  3,  4],\n",
              "       [ 5,  6,  7,  8,  9],\n",
              "       [10, 11, 12, 13, 14]])"
            ]
          },
          "metadata": {
            "tags": []
          },
          "execution_count": 9
        }
      ]
    },
    {
      "cell_type": "code",
      "metadata": {
        "colab": {
          "base_uri": "https://localhost:8080/"
        },
        "id": "M3PdANqNWMAF",
        "outputId": "e02a566c-5597-498a-e2b4-d5cb826a0fdc"
      },
      "source": [
        "a = np.arange(20).reshape(4, 5)\n",
        "a"
      ],
      "execution_count": 10,
      "outputs": [
        {
          "output_type": "execute_result",
          "data": {
            "text/plain": [
              "array([[ 0,  1,  2,  3,  4],\n",
              "       [ 5,  6,  7,  8,  9],\n",
              "       [10, 11, 12, 13, 14],\n",
              "       [15, 16, 17, 18, 19]])"
            ]
          },
          "metadata": {
            "tags": []
          },
          "execution_count": 10
        }
      ]
    },
    {
      "cell_type": "code",
      "metadata": {
        "colab": {
          "base_uri": "https://localhost:8080/"
        },
        "id": "mepmhQ5aWW2s",
        "outputId": "ea8e9ade-5a4b-425e-9907-7a2927c09ab6"
      },
      "source": [
        "a = np.arange(20).reshape(2, 2, 5)\n",
        "a\n"
      ],
      "execution_count": 16,
      "outputs": [
        {
          "output_type": "execute_result",
          "data": {
            "text/plain": [
              "array([[[ 0,  1,  2,  3,  4],\n",
              "        [ 5,  6,  7,  8,  9]],\n",
              "\n",
              "       [[10, 11, 12, 13, 14],\n",
              "        [15, 16, 17, 18, 19]]])"
            ]
          },
          "metadata": {
            "tags": []
          },
          "execution_count": 16
        }
      ]
    },
    {
      "cell_type": "code",
      "metadata": {
        "colab": {
          "base_uri": "https://localhost:8080/"
        },
        "id": "IqVunh4gWkPG",
        "outputId": "38bfaba4-e3a5-4242-ff66-865f585cfa88"
      },
      "source": [
        "a = np.arange(20).reshape(2, 2, 5)\n",
        "a[0][1][2]"
      ],
      "execution_count": 17,
      "outputs": [
        {
          "output_type": "execute_result",
          "data": {
            "text/plain": [
              "7"
            ]
          },
          "metadata": {
            "tags": []
          },
          "execution_count": 17
        }
      ]
    },
    {
      "cell_type": "code",
      "metadata": {
        "colab": {
          "base_uri": "https://localhost:8080/"
        },
        "id": "L22UItA6Wqud",
        "outputId": "68e497a1-e194-473c-fc77-01de2abe7181"
      },
      "source": [
        "a = np.arange(15).reshape(3, 5)  \n",
        "a\n",
        "a.shape    #?행 ?열\n",
        "a.ndim   #차원\n",
        "a.dtype.name   #타입\n",
        "a.size   #flat한 데이터 사이즈\n",
        "type(a)  "
      ],
      "execution_count": 24,
      "outputs": [
        {
          "output_type": "execute_result",
          "data": {
            "text/plain": [
              "numpy.ndarray"
            ]
          },
          "metadata": {
            "tags": []
          },
          "execution_count": 24
        }
      ]
    },
    {
      "cell_type": "code",
      "metadata": {
        "id": "QxBC87EOYl6-"
      },
      "source": [
        "np.zeros((3, 4))"
      ],
      "execution_count": null,
      "outputs": []
    },
    {
      "cell_type": "code",
      "metadata": {
        "colab": {
          "base_uri": "https://localhost:8080/"
        },
        "id": "Eg8-mjcxYpFd",
        "outputId": "38ad7897-cf66-4015-c4cc-d1cff458e141"
      },
      "source": [
        "np.ones((2, 3), dtype=np.int16)"
      ],
      "execution_count": 25,
      "outputs": [
        {
          "output_type": "execute_result",
          "data": {
            "text/plain": [
              "array([[1, 1, 1],\n",
              "       [1, 1, 1]], dtype=int16)"
            ]
          },
          "metadata": {
            "tags": []
          },
          "execution_count": 25
        }
      ]
    },
    {
      "cell_type": "code",
      "metadata": {
        "colab": {
          "base_uri": "https://localhost:8080/"
        },
        "id": "oyRDJa2CYwT9",
        "outputId": "6b786453-df92-4ada-a8ae-d06799cc8894"
      },
      "source": [
        "np.empty((2, 3))"
      ],
      "execution_count": 26,
      "outputs": [
        {
          "output_type": "execute_result",
          "data": {
            "text/plain": [
              "array([[4.65670373e-310, 0.00000000e+000, 0.00000000e+000],\n",
              "       [0.00000000e+000, 0.00000000e+000, 0.00000000e+000]])"
            ]
          },
          "metadata": {
            "tags": []
          },
          "execution_count": 26
        }
      ]
    },
    {
      "cell_type": "code",
      "metadata": {
        "colab": {
          "base_uri": "https://localhost:8080/"
        },
        "id": "rDCpHSgUY-A1",
        "outputId": "4131164f-70c9-4b3d-ab58-e47736d4268b"
      },
      "source": [
        "np.arange(0, 2, 0.3)"
      ],
      "execution_count": 27,
      "outputs": [
        {
          "output_type": "execute_result",
          "data": {
            "text/plain": [
              "array([0. , 0.3, 0.6, 0.9, 1.2, 1.5, 1.8])"
            ]
          },
          "metadata": {
            "tags": []
          },
          "execution_count": 27
        }
      ]
    },
    {
      "cell_type": "code",
      "metadata": {
        "colab": {
          "base_uri": "https://localhost:8080/"
        },
        "id": "N8Qipi22ZJB1",
        "outputId": "fc1e63fb-9f91-4409-a72e-2bfd0359ccf1"
      },
      "source": [
        "np.linspace(0, 9.5, 20)\n",
        "np.linspace(0.5, 10, 20)                 \n"
      ],
      "execution_count": 30,
      "outputs": [
        {
          "output_type": "execute_result",
          "data": {
            "text/plain": [
              "array([ 0.5,  1. ,  1.5,  2. ,  2.5,  3. ,  3.5,  4. ,  4.5,  5. ,  5.5,\n",
              "        6. ,  6.5,  7. ,  7.5,  8. ,  8.5,  9. ,  9.5, 10. ])"
            ]
          },
          "metadata": {
            "tags": []
          },
          "execution_count": 30
        }
      ]
    },
    {
      "cell_type": "code",
      "metadata": {
        "colab": {
          "base_uri": "https://localhost:8080/"
        },
        "id": "HQbQCiXDSp3j",
        "outputId": "a2b29337-bffb-4afb-bf07-db570de4304c"
      },
      "source": [
        "리스트 = [[10, 2, 3], [4, 5, 6], [7, 8, 9]]\n",
        "\n",
        "a = np.array(리스트)\n",
        "# a.sum(), sum(리스트)   #sum(리스트)는 에러납니다.\n",
        "a.min(), min(리스트)\n",
        "a.max(), max(리스트)   #2개는 출력하는 결과도 다릅니다."
      ],
      "execution_count": 31,
      "outputs": [
        {
          "output_type": "execute_result",
          "data": {
            "text/plain": [
              "(10, [10, 2, 3])"
            ]
          },
          "metadata": {
            "tags": []
          },
          "execution_count": 31
        }
      ]
    },
    {
      "cell_type": "code",
      "metadata": {
        "colab": {
          "base_uri": "https://localhost:8080/"
        },
        "id": "E4shYzxGeuN1",
        "outputId": "99fed4d9-7506-42c6-9d2e-e06a7abbc2a0"
      },
      "source": [
        "b = np.arange(12).reshape(3, 4)\n",
        "b"
      ],
      "execution_count": 34,
      "outputs": [
        {
          "output_type": "execute_result",
          "data": {
            "text/plain": [
              "array([[ 0,  1,  2,  3],\n",
              "       [ 4,  5,  6,  7],\n",
              "       [ 8,  9, 10, 11]])"
            ]
          },
          "metadata": {
            "tags": []
          },
          "execution_count": 34
        }
      ]
    },
    {
      "cell_type": "code",
      "metadata": {
        "colab": {
          "base_uri": "https://localhost:8080/"
        },
        "id": "zsQtkiURfa39",
        "outputId": "9e14b494-e1df-4767-c39a-fc5a3b14660d"
      },
      "source": [
        "b.sum(axis=0)  # col기준으로 row끼리 더한 것(세로)\n",
        "b.sum(axis=1)  # row기준으로 col끼리 더한 것(가로)\n",
        "b.sum()  #flat하게 모두 더한 것"
      ],
      "execution_count": 38,
      "outputs": [
        {
          "output_type": "execute_result",
          "data": {
            "text/plain": [
              "66"
            ]
          },
          "metadata": {
            "tags": []
          },
          "execution_count": 38
        }
      ]
    },
    {
      "cell_type": "code",
      "metadata": {
        "colab": {
          "base_uri": "https://localhost:8080/"
        },
        "id": "VMjxDozddrWu",
        "outputId": "dab496fc-1ce1-428a-ca90-a67a51e6b2ba"
      },
      "source": [
        "b.ravel()   #b를 평평하게 펴주는 것"
      ],
      "execution_count": 40,
      "outputs": [
        {
          "output_type": "execute_result",
          "data": {
            "text/plain": [
              "array([ 0,  1,  2,  3,  4,  5,  6,  7,  8,  9, 10, 11])"
            ]
          },
          "metadata": {
            "tags": []
          },
          "execution_count": 40
        }
      ]
    },
    {
      "cell_type": "code",
      "metadata": {
        "colab": {
          "base_uri": "https://localhost:8080/"
        },
        "id": "r0p_5u42grzN",
        "outputId": "282d9a70-c94e-4673-9d9f-20f0b7b20083"
      },
      "source": [
        "b.T   #잘 써요!\n",
        "#b.transpose()  잘 안 써요! (위의 코드와 같은 결과를 나타냄)"
      ],
      "execution_count": 42,
      "outputs": [
        {
          "output_type": "execute_result",
          "data": {
            "text/plain": [
              "array([[ 0,  4,  8],\n",
              "       [ 1,  5,  9],\n",
              "       [ 2,  6, 10],\n",
              "       [ 3,  7, 11]])"
            ]
          },
          "metadata": {
            "tags": []
          },
          "execution_count": 42
        }
      ]
    },
    {
      "cell_type": "code",
      "metadata": {
        "colab": {
          "base_uri": "https://localhost:8080/"
        },
        "id": "TE0IWcvthKKX",
        "outputId": "adabe336-02c1-49dc-bcbb-91e970330d5b"
      },
      "source": [
        "a = np.array([[1,2],[3,4]])\n",
        "b = np.floor([[5,6],[7,8]])\n",
        "np.vstack((a, b))\n",
        "np.hstack((a, b))\n"
      ],
      "execution_count": 46,
      "outputs": [
        {
          "output_type": "execute_result",
          "data": {
            "text/plain": [
              "array([[1., 2., 5., 6.],\n",
              "       [3., 4., 7., 8.]])"
            ]
          },
          "metadata": {
            "tags": []
          },
          "execution_count": 46
        }
      ]
    },
    {
      "cell_type": "code",
      "metadata": {
        "colab": {
          "base_uri": "https://localhost:8080/"
        },
        "id": "dZ7ZefVNiEzl",
        "outputId": "dac579b2-9a64-46df-e652-705eeca37c90"
      },
      "source": [
        "# 매우 많이 사용되는 코드입니다.\n",
        "a = np.arange(12).reshape(3, 4)\n",
        "b = a > 4\n",
        "b"
      ],
      "execution_count": 44,
      "outputs": [
        {
          "output_type": "execute_result",
          "data": {
            "text/plain": [
              "array([[False, False, False, False],\n",
              "       [False,  True,  True,  True],\n",
              "       [ True,  True,  True,  True]])"
            ]
          },
          "metadata": {
            "tags": []
          },
          "execution_count": 44
        }
      ]
    },
    {
      "cell_type": "code",
      "metadata": {
        "colab": {
          "base_uri": "https://localhost:8080/"
        },
        "id": "S948gcKriN9s",
        "outputId": "44a36551-e142-4e32-f0d0-2585d5e20706"
      },
      "source": [
        "b.sum()"
      ],
      "execution_count": 45,
      "outputs": [
        {
          "output_type": "execute_result",
          "data": {
            "text/plain": [
              "7"
            ]
          },
          "metadata": {
            "tags": []
          },
          "execution_count": 45
        }
      ]
    }
  ]
}