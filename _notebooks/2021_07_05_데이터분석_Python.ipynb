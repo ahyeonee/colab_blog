{
  "nbformat": 4,
  "nbformat_minor": 0,
  "metadata": {
    "colab": {
      "name": "2021_07_05_데이터분석_Python.ipynb",
      "provenance": [],
      "collapsed_sections": [],
      "toc_visible": true
    },
    "kernelspec": {
      "name": "python3",
      "display_name": "Python 3"
    },
    "language_info": {
      "name": "python"
    }
  },
  "cells": [
    {
      "cell_type": "markdown",
      "metadata": {
        "id": "1C7brM9DMTVK"
      },
      "source": [
        "# '데이터 분석 Python 기초 문법 노트북'\n",
        "> '2021년 여름방학 데이터분석을 위한 Python 기초문법'\n",
        "\n",
        "\n",
        "- toc : true\n",
        "- branch : master\n",
        "- badges : true\n",
        "- comments : true\n",
        "- author : kang a-hyeon\n",
        "- categories : [python, 데이터분석]"
      ]
    },
    {
      "cell_type": "code",
      "metadata": {
        "colab": {
          "base_uri": "https://localhost:8080/"
        },
        "id": "Ue23EQlhXdJh",
        "outputId": "fc80f279-8300-4fc9-a0f5-49ccf8a5eceb"
      },
      "source": [
        "x = 3 \n",
        "y = 7\n",
        "x + y"
      ],
      "execution_count": null,
      "outputs": [
        {
          "output_type": "execute_result",
          "data": {
            "text/plain": [
              "10"
            ]
          },
          "metadata": {
            "tags": []
          },
          "execution_count": 1
        }
      ]
    },
    {
      "cell_type": "markdown",
      "metadata": {
        "id": "4dfqvGnBYOaQ"
      },
      "source": [
        "# 마크다운\n",
        "## 마크다운\n",
        "### 마크다운\n",
        "\n",
        "* hello world\n",
        "* hello world\n",
        "* hello world\n",
        "\n",
        "1. hello world\n",
        "1. hello world\n",
        "1. hello world"
      ]
    },
    {
      "cell_type": "markdown",
      "metadata": {
        "id": "8w16bR0Ya472"
      },
      "source": [
        "## 변수"
      ]
    },
    {
      "cell_type": "markdown",
      "metadata": {
        "id": "DJeJaK09bE3v"
      },
      "source": [
        "* 대문자와 소문자는 다릅니다!\n",
        "* 변수명에 띄어쓰기를 쓰지 않습니다!\n",
        "* 맨 앞에 숫자를 사용하지 않습니다.\n",
        "* 카멜 표기법이나 스네이크 표기법 중 일반 변수는 스네이크 표기법을 사용합니다.  #스네이크 표기법 = _(언더바) 사용\n",
        "* for, if, print, sum 등 이미 예약되어 있는 것은 변수로 사용하지 않습니다."
      ]
    },
    {
      "cell_type": "code",
      "metadata": {
        "colab": {
          "base_uri": "https://localhost:8080/"
        },
        "id": "bp-306V5a07g",
        "outputId": "b6f45ccb-2f5c-4149-d4c0-eb60f42f90ea"
      },
      "source": [
        "x = 3\n",
        "y = 7\n",
        "x + y\n",
        "x - y\n",
        "x * y\n",
        "x // y"
      ],
      "execution_count": null,
      "outputs": [
        {
          "output_type": "execute_result",
          "data": {
            "text/plain": [
              "0"
            ]
          },
          "metadata": {
            "tags": []
          },
          "execution_count": 4
        }
      ]
    },
    {
      "cell_type": "code",
      "metadata": {
        "colab": {
          "base_uri": "https://localhost:8080/"
        },
        "id": "JeUE6A_ybnV-",
        "outputId": "6e1a59d1-7989-4ce1-c45e-5f30fc803ad8"
      },
      "source": [
        "x = 3\n",
        "y = 7\n",
        "print(x + y)\n",
        "print(x - y)\n",
        "print(x * y)\n",
        "print(x // y)"
      ],
      "execution_count": null,
      "outputs": [
        {
          "output_type": "stream",
          "text": [
            "10\n",
            "-4\n",
            "21\n",
            "0\n"
          ],
          "name": "stdout"
        }
      ]
    },
    {
      "cell_type": "code",
      "metadata": {
        "colab": {
          "base_uri": "https://localhost:8080/"
        },
        "id": "RAffArH3cRfO",
        "outputId": "e3203db6-ce7e-463c-c712-81ea88a1e8cb"
      },
      "source": [
        "a = 10\n",
        "b = '10'\n",
        "print(a + a)\n",
        "print(b + b)"
      ],
      "execution_count": null,
      "outputs": [
        {
          "output_type": "stream",
          "text": [
            "20\n",
            "1010\n"
          ],
          "name": "stdout"
        }
      ]
    },
    {
      "cell_type": "code",
      "metadata": {
        "colab": {
          "base_uri": "https://localhost:8080/"
        },
        "id": "r9MvZ92kc5o2",
        "outputId": "da2917fc-6b1b-40ec-a1c1-b241fe4b6f48"
      },
      "source": [
        "a = 10   #int : 정수\n",
        "b = '10'   #str : 문자\n",
        "c = 'lee'\n",
        "d = 'hojun'\n",
        "e = True   #bool : 불리언\n",
        "f = 10.1   #float : 실수\n",
        "print(type(a))"
      ],
      "execution_count": null,
      "outputs": [
        {
          "output_type": "stream",
          "text": [
            "<class 'int'>\n"
          ],
          "name": "stdout"
        }
      ]
    },
    {
      "cell_type": "code",
      "metadata": {
        "colab": {
          "base_uri": "https://localhost:8080/"
        },
        "id": "GIc_9Lhld2J2",
        "outputId": "93e86d73-6a8c-42cd-e90a-e59815a7f76b"
      },
      "source": [
        "3 > 10"
      ],
      "execution_count": null,
      "outputs": [
        {
          "output_type": "execute_result",
          "data": {
            "text/plain": [
              "False"
            ]
          },
          "metadata": {
            "tags": []
          },
          "execution_count": 9
        }
      ]
    },
    {
      "cell_type": "code",
      "metadata": {
        "colab": {
          "base_uri": "https://localhost:8080/",
          "height": 172
        },
        "id": "OonRMGd-eJ2e",
        "outputId": "d58e0d39-486c-466a-b494-169d7aab2024"
      },
      "source": [
        "a + b"
      ],
      "execution_count": null,
      "outputs": [
        {
          "output_type": "error",
          "ename": "TypeError",
          "evalue": "ignored",
          "traceback": [
            "\u001b[0;31m---------------------------------------------------------------------------\u001b[0m",
            "\u001b[0;31mTypeError\u001b[0m                                 Traceback (most recent call last)",
            "\u001b[0;32m<ipython-input-10-bd58363a63fc>\u001b[0m in \u001b[0;36m<module>\u001b[0;34m()\u001b[0m\n\u001b[0;32m----> 1\u001b[0;31m \u001b[0ma\u001b[0m \u001b[0;34m+\u001b[0m \u001b[0mb\u001b[0m\u001b[0;34m\u001b[0m\u001b[0;34m\u001b[0m\u001b[0m\n\u001b[0m",
            "\u001b[0;31mTypeError\u001b[0m: unsupported operand type(s) for +: 'int' and 'str'"
          ]
        }
      ]
    },
    {
      "cell_type": "code",
      "metadata": {
        "colab": {
          "base_uri": "https://localhost:8080/"
        },
        "id": "zdN0KmGqeaAu",
        "outputId": "f33d603c-7632-4a99-f2e4-b91b357e8775"
      },
      "source": [
        "a = [10, 20, 30, 10.1, 20.1, 30.1, 'hojun']  #list\n",
        "b = (10, 20, 30)  #tuple\n",
        "c = {10, 20, 30, 30, 30}  #set\n",
        "d = {'one':1, 'two':2}  #dict\n",
        "print(type(a))"
      ],
      "execution_count": null,
      "outputs": [
        {
          "output_type": "stream",
          "text": [
            "<class 'list'>\n"
          ],
          "name": "stdout"
        }
      ]
    },
    {
      "cell_type": "code",
      "metadata": {
        "colab": {
          "base_uri": "https://localhost:8080/"
        },
        "id": "qNi6GgTkffp-",
        "outputId": "27095d77-bb41-4998-ab94-ab28a8963e94"
      },
      "source": [
        "a.pop()\n",
        "sum(a)"
      ],
      "execution_count": null,
      "outputs": [
        {
          "output_type": "execute_result",
          "data": {
            "text/plain": [
              "90.19999999999999"
            ]
          },
          "metadata": {
            "tags": []
          },
          "execution_count": 13
        }
      ]
    },
    {
      "cell_type": "markdown",
      "metadata": {
        "id": "Trn_5bXDgU9c"
      },
      "source": [
        "## 형변환"
      ]
    },
    {
      "cell_type": "code",
      "metadata": {
        "colab": {
          "base_uri": "https://localhost:8080/"
        },
        "id": "9XGwxCoXgRfF",
        "outputId": "b5cbccf3-0cf9-4dfa-a850-3b5e5c94c769"
      },
      "source": [
        "a = 10\n",
        "b = '10'\n",
        "print(str(a) + b)\n",
        "print(a + int(b))"
      ],
      "execution_count": null,
      "outputs": [
        {
          "output_type": "stream",
          "text": [
            "1010\n",
            "20\n"
          ],
          "name": "stdout"
        }
      ]
    },
    {
      "cell_type": "markdown",
      "metadata": {
        "id": "ZSFVwsjNkvZl"
      },
      "source": [
        "## 산술연산"
      ]
    },
    {
      "cell_type": "code",
      "metadata": {
        "colab": {
          "base_uri": "https://localhost:8080/"
        },
        "id": "tNnrJH9qkueE",
        "outputId": "ce2e4fdd-e79a-4394-f778-ffd3a5e6ba95"
      },
      "source": [
        "a = 7\n",
        "b = 3\n",
        "print(a + b)\n",
        "print(a - b)\n",
        "print(a * b)\n",
        "print(a / b)\n",
        "print(a // b)\n",
        "print(a ** b)\n",
        "print(a % b)"
      ],
      "execution_count": null,
      "outputs": [
        {
          "output_type": "stream",
          "text": [
            "10\n",
            "4\n",
            "21\n",
            "2.3333333333333335\n",
            "2\n",
            "343\n",
            "1\n"
          ],
          "name": "stdout"
        }
      ]
    },
    {
      "cell_type": "markdown",
      "metadata": {
        "id": "Np8b1otQmgq8"
      },
      "source": [
        "## 비교연산"
      ]
    },
    {
      "cell_type": "code",
      "metadata": {
        "colab": {
          "base_uri": "https://localhost:8080/"
        },
        "id": "_hnVF6zjmAWG",
        "outputId": "7c680370-7dfe-43e2-ed47-6a193911362f"
      },
      "source": [
        "a = 3\n",
        "b = 5\n",
        "print(a > b)\n",
        "print(a >= b)\n",
        "print(a < b)\n",
        "print(a <= b)\n",
        "print(a == b)\n",
        "print(a != b)"
      ],
      "execution_count": null,
      "outputs": [
        {
          "output_type": "stream",
          "text": [
            "False\n",
            "False\n",
            "True\n",
            "True\n",
            "False\n",
            "True\n"
          ],
          "name": "stdout"
        }
      ]
    },
    {
      "cell_type": "markdown",
      "metadata": {
        "id": "7jM9gYXCospk"
      },
      "source": [
        "## 논리연산"
      ]
    },
    {
      "cell_type": "code",
      "metadata": {
        "colab": {
          "base_uri": "https://localhost:8080/"
        },
        "id": "3F0JU08Wo9qr",
        "outputId": "d3d5d23c-00fd-4530-ea67-8401bbd5d7c8"
      },
      "source": [
        "# 주석입니다. 주석은 실행하지 않습니다.\n",
        "a = 10\n",
        "b = 20\n",
        "a + b"
      ],
      "execution_count": null,
      "outputs": [
        {
          "output_type": "execute_result",
          "data": {
            "text/plain": [
              "30"
            ]
          },
          "metadata": {
            "tags": []
          },
          "execution_count": 21
        }
      ]
    },
    {
      "cell_type": "code",
      "metadata": {
        "colab": {
          "base_uri": "https://localhost:8080/"
        },
        "id": "dhH6lAgSosU7",
        "outputId": "466d6c3c-c450-4b3c-f5c5-4ad07fee1ba9"
      },
      "source": [
        "a = True  #1\n",
        "b = False  #0\n",
        "\n",
        "print(a and b)   # and = 곱\n",
        "print(a or b)   # or = 더하기, 0을 제외한 모든 숫자는 True\n",
        "print(not a)\n"
      ],
      "execution_count": null,
      "outputs": [
        {
          "output_type": "stream",
          "text": [
            "False\n",
            "True\n",
            "False\n"
          ],
          "name": "stdout"
        }
      ]
    },
    {
      "cell_type": "code",
      "metadata": {
        "colab": {
          "base_uri": "https://localhost:8080/"
        },
        "id": "LQPto437qm1r",
        "outputId": "d05b6454-47b3-4959-97a2-3ae5a1a66ef5"
      },
      "source": [
        "result = 0\n",
        "for i in range(1001):\n",
        "    if i % 3 == 0 or i % 5 == 0:\n",
        "      result = result + i\n",
        "\n",
        "print(result)"
      ],
      "execution_count": null,
      "outputs": [
        {
          "output_type": "stream",
          "text": [
            "234168\n"
          ],
          "name": "stdout"
        }
      ]
    },
    {
      "cell_type": "markdown",
      "metadata": {
        "id": "rDCQ-6e-w4Wq"
      },
      "source": [
        "## 문자열"
      ]
    },
    {
      "cell_type": "code",
      "metadata": {
        "id": "0NeW4HxPw5vM"
      },
      "source": [
        "s = 'paullab CEO leehojun'\n"
      ],
      "execution_count": null,
      "outputs": []
    },
    {
      "cell_type": "code",
      "metadata": {
        "colab": {
          "base_uri": "https://localhost:8080/"
        },
        "id": "pDNpEsGpxJSh",
        "outputId": "f0c5151f-0e5c-4dde-aadb-2b01cf12570e"
      },
      "source": [
        "s.count('l')"
      ],
      "execution_count": null,
      "outputs": [
        {
          "output_type": "execute_result",
          "data": {
            "text/plain": [
              "3"
            ]
          },
          "metadata": {
            "tags": []
          },
          "execution_count": 37
        }
      ]
    },
    {
      "cell_type": "code",
      "metadata": {
        "colab": {
          "base_uri": "https://localhost:8080/"
        },
        "id": "6YK0IRqMxea5",
        "outputId": "32afc052-b96e-4466-b0b3-55ce1a9a1eff"
      },
      "source": [
        "s.count(' ')"
      ],
      "execution_count": null,
      "outputs": [
        {
          "output_type": "execute_result",
          "data": {
            "text/plain": [
              "2"
            ]
          },
          "metadata": {
            "tags": []
          },
          "execution_count": 38
        }
      ]
    },
    {
      "cell_type": "code",
      "metadata": {
        "colab": {
          "base_uri": "https://localhost:8080/",
          "height": 35
        },
        "id": "vDA0_mBdx1rT",
        "outputId": "6a8790bd-5c86-4fee-cdd8-d9c074b5caa1"
      },
      "source": [
        "s.upper()"
      ],
      "execution_count": null,
      "outputs": [
        {
          "output_type": "execute_result",
          "data": {
            "application/vnd.google.colaboratory.intrinsic+json": {
              "type": "string"
            },
            "text/plain": [
              "'PAULLAB CEO LEEHOJUN'"
            ]
          },
          "metadata": {
            "tags": []
          },
          "execution_count": 39
        }
      ]
    },
    {
      "cell_type": "code",
      "metadata": {
        "colab": {
          "base_uri": "https://localhost:8080/",
          "height": 35
        },
        "id": "1I3Zxyxvx4vh",
        "outputId": "7744c766-6571-4653-feca-bcda33c78891"
      },
      "source": [
        "s.lower()"
      ],
      "execution_count": null,
      "outputs": [
        {
          "output_type": "execute_result",
          "data": {
            "application/vnd.google.colaboratory.intrinsic+json": {
              "type": "string"
            },
            "text/plain": [
              "'paullab ceo leehojun'"
            ]
          },
          "metadata": {
            "tags": []
          },
          "execution_count": 40
        }
      ]
    },
    {
      "cell_type": "code",
      "metadata": {
        "colab": {
          "base_uri": "https://localhost:8080/"
        },
        "id": "nacQjPfsx7Xp",
        "outputId": "d1d81f77-d229-47d3-8de1-08659a1d10f4"
      },
      "source": [
        "s.split(' ')  #공백 단위로 자르세요."
      ],
      "execution_count": null,
      "outputs": [
        {
          "output_type": "execute_result",
          "data": {
            "text/plain": [
              "['paullab', 'CEO', 'leehojun']"
            ]
          },
          "metadata": {
            "tags": []
          },
          "execution_count": 43
        }
      ]
    },
    {
      "cell_type": "code",
      "metadata": {
        "colab": {
          "base_uri": "https://localhost:8080/",
          "height": 35
        },
        "id": "MQXq20eOyJ4T",
        "outputId": "4de27909-bdfe-4fe4-d589-e28a7207efa1"
      },
      "source": [
        "''.join(['a', 'b', 'c'])  #아무 공백 없이 문자를 합치겠다."
      ],
      "execution_count": null,
      "outputs": [
        {
          "output_type": "execute_result",
          "data": {
            "application/vnd.google.colaboratory.intrinsic+json": {
              "type": "string"
            },
            "text/plain": [
              "'abc'"
            ]
          },
          "metadata": {
            "tags": []
          },
          "execution_count": 44
        }
      ]
    },
    {
      "cell_type": "code",
      "metadata": {
        "colab": {
          "base_uri": "https://localhost:8080/",
          "height": 35
        },
        "id": "D-Cxa4vMyrTJ",
        "outputId": "937d6608-f428-41e2-bebf-29894b18a389"
      },
      "source": [
        "'-'.join(['a', 'b', 'c'])  #(-)로 문자를 합치겠다."
      ],
      "execution_count": null,
      "outputs": [
        {
          "output_type": "execute_result",
          "data": {
            "application/vnd.google.colaboratory.intrinsic+json": {
              "type": "string"
            },
            "text/plain": [
              "'a-b-c'"
            ]
          },
          "metadata": {
            "tags": []
          },
          "execution_count": 45
        }
      ]
    },
    {
      "cell_type": "code",
      "metadata": {
        "colab": {
          "base_uri": "https://localhost:8080/",
          "height": 35
        },
        "id": "e0Jsn-syy6F6",
        "outputId": "2ab6c99a-645b-45e3-dadd-71ec01060ff0"
      },
      "source": [
        "d = s.split(' ')\n",
        "'-'.join(d)\n"
      ],
      "execution_count": null,
      "outputs": [
        {
          "output_type": "execute_result",
          "data": {
            "application/vnd.google.colaboratory.intrinsic+json": {
              "type": "string"
            },
            "text/plain": [
              "'paullab-CEO-leehojun'"
            ]
          },
          "metadata": {
            "tags": []
          },
          "execution_count": 46
        }
      ]
    },
    {
      "cell_type": "code",
      "metadata": {
        "colab": {
          "base_uri": "https://localhost:8080/"
        },
        "id": "khtAwp2lzuPJ",
        "outputId": "6c6b4b2c-fb61-4a9f-b32a-61c554eb9dc3"
      },
      "source": [
        "dir(s)"
      ],
      "execution_count": null,
      "outputs": [
        {
          "output_type": "execute_result",
          "data": {
            "text/plain": [
              "['__add__',\n",
              " '__class__',\n",
              " '__contains__',\n",
              " '__delattr__',\n",
              " '__dir__',\n",
              " '__doc__',\n",
              " '__eq__',\n",
              " '__format__',\n",
              " '__ge__',\n",
              " '__getattribute__',\n",
              " '__getitem__',\n",
              " '__getnewargs__',\n",
              " '__gt__',\n",
              " '__hash__',\n",
              " '__init__',\n",
              " '__init_subclass__',\n",
              " '__iter__',\n",
              " '__le__',\n",
              " '__len__',\n",
              " '__lt__',\n",
              " '__mod__',\n",
              " '__mul__',\n",
              " '__ne__',\n",
              " '__new__',\n",
              " '__reduce__',\n",
              " '__reduce_ex__',\n",
              " '__repr__',\n",
              " '__rmod__',\n",
              " '__rmul__',\n",
              " '__setattr__',\n",
              " '__sizeof__',\n",
              " '__str__',\n",
              " '__subclasshook__',\n",
              " 'capitalize',\n",
              " 'casefold',\n",
              " 'center',\n",
              " 'count',\n",
              " 'encode',\n",
              " 'endswith',\n",
              " 'expandtabs',\n",
              " 'find',\n",
              " 'format',\n",
              " 'format_map',\n",
              " 'index',\n",
              " 'isalnum',\n",
              " 'isalpha',\n",
              " 'isascii',\n",
              " 'isdecimal',\n",
              " 'isdigit',\n",
              " 'isidentifier',\n",
              " 'islower',\n",
              " 'isnumeric',\n",
              " 'isprintable',\n",
              " 'isspace',\n",
              " 'istitle',\n",
              " 'isupper',\n",
              " 'join',\n",
              " 'ljust',\n",
              " 'lower',\n",
              " 'lstrip',\n",
              " 'maketrans',\n",
              " 'partition',\n",
              " 'replace',\n",
              " 'rfind',\n",
              " 'rindex',\n",
              " 'rjust',\n",
              " 'rpartition',\n",
              " 'rsplit',\n",
              " 'rstrip',\n",
              " 'split',\n",
              " 'splitlines',\n",
              " 'startswith',\n",
              " 'strip',\n",
              " 'swapcase',\n",
              " 'title',\n",
              " 'translate',\n",
              " 'upper',\n",
              " 'zfill']"
            ]
          },
          "metadata": {
            "tags": []
          },
          "execution_count": 47
        }
      ]
    },
    {
      "cell_type": "code",
      "metadata": {
        "colab": {
          "base_uri": "https://localhost:8080/"
        },
        "id": "cC3lM_V9z_EA",
        "outputId": "985bf902-3f7d-48dd-dcc2-c325052a25f9"
      },
      "source": [
        "s = '              hello world'\n",
        "print(s)\n",
        "print(s.strip())   # 불필요한 양쪽 공백이 없도록\n",
        "print(s.replace(' ',''))   # 모든 공백이 없도록"
      ],
      "execution_count": null,
      "outputs": [
        {
          "output_type": "stream",
          "text": [
            "              hello world\n",
            "hello world\n",
            "helloworld\n"
          ],
          "name": "stdout"
        }
      ]
    },
    {
      "cell_type": "code",
      "metadata": {
        "id": "uK2bXBAK0CrQ"
      },
      "source": [
        ""
      ],
      "execution_count": null,
      "outputs": []
    },
    {
      "cell_type": "markdown",
      "metadata": {
        "id": "k858qp2McFUk"
      },
      "source": [
        "## 리스트\n",
        "* 순서가 있고, 수정이 가능합니다."
      ]
    },
    {
      "cell_type": "code",
      "metadata": {
        "colab": {
          "base_uri": "https://localhost:8080/"
        },
        "id": "Hb0pvYBwcge0",
        "outputId": "504a7507-65d2-46d1-cddd-c8a196fb719a"
      },
      "source": [
        "a = [10, 20, 30, 40, 50, 60, 70, 15]\n",
        "a\n",
        "a[0]  #0은 인덱스이고, a[0] 호출하는 것을 indexing이라고 합니다.\n",
        "a[0], a[1], a[2], a[3], a[4]\n",
        "a[0:5]  #슬라이싱, 자료형[start:stop:step]\n",
        "a[::2]  #슬라이싱, 자료형 [start:stop:step], 자주 사용하지 않습니다.\n",
        "a[::-1]  #슬라이싱, 자료형 [start:stop:step], 자주 사용합니다.\n",
        "a[0] = 1000\n",
        "a"
      ],
      "execution_count": null,
      "outputs": [
        {
          "output_type": "execute_result",
          "data": {
            "text/plain": [
              "[1000, 20, 30, 40, 50, 60, 70, 15]"
            ]
          },
          "metadata": {
            "tags": []
          },
          "execution_count": 5
        }
      ]
    },
    {
      "cell_type": "code",
      "metadata": {
        "colab": {
          "base_uri": "https://localhost:8080/"
        },
        "id": "nixtxYOZecb9",
        "outputId": "c7b6435a-4ac2-4ed5-bc92-72198d42bf96"
      },
      "source": [
        "dir(a)\n",
        "\n",
        "a.append()  #값을 맨 뒤에 추가합니다, 자주 사용합니다! a.append(10)\n",
        "a.clear()  # a에 모든 값을 비웁니다, 자주 사용하지 않습니다!\n",
        "a.copy()  # a에 모든 값을 복사합니다.\n",
        "a.count()  # a에서 특정한 값의 개수를 찾습니다, 자주 사용합니다!\n",
        "a.extend()  # a에 맨 뒤에 여러 개의 값을 추가합니다.  a.extend([10],[20],[30])\n",
        "a.index()  # a에서 특정한 값의 인덱스를 찾습니다.\n",
        "a.insert()  # a에 중간에 값을 삽입합니다.  a.insert(2,10000)\n",
        "a.pop()  # a에 맨 뒤에 값을 빼냅니다. 빼낸 값은 삭제됩니다, 자주 사용합니다!\n",
        "a.remove()  # a에 특정한 값을 삭제합니다.  a.remove(10000)\n",
        "a.reverse()  # a의 값을 뒤집습니다, 자주 사용합니다!\n",
        "a.sort()  # a의 값을 정렬합니다, 자주 사용합니다!"
      ],
      "execution_count": null,
      "outputs": [
        {
          "output_type": "execute_result",
          "data": {
            "text/plain": [
              "['__add__',\n",
              " '__class__',\n",
              " '__contains__',\n",
              " '__delattr__',\n",
              " '__delitem__',\n",
              " '__dir__',\n",
              " '__doc__',\n",
              " '__eq__',\n",
              " '__format__',\n",
              " '__ge__',\n",
              " '__getattribute__',\n",
              " '__getitem__',\n",
              " '__gt__',\n",
              " '__hash__',\n",
              " '__iadd__',\n",
              " '__imul__',\n",
              " '__init__',\n",
              " '__init_subclass__',\n",
              " '__iter__',\n",
              " '__le__',\n",
              " '__len__',\n",
              " '__lt__',\n",
              " '__mul__',\n",
              " '__ne__',\n",
              " '__new__',\n",
              " '__reduce__',\n",
              " '__reduce_ex__',\n",
              " '__repr__',\n",
              " '__reversed__',\n",
              " '__rmul__',\n",
              " '__setattr__',\n",
              " '__setitem__',\n",
              " '__sizeof__',\n",
              " '__str__',\n",
              " '__subclasshook__',\n",
              " 'append',\n",
              " 'clear',\n",
              " 'copy',\n",
              " 'count',\n",
              " 'extend',\n",
              " 'index',\n",
              " 'insert',\n",
              " 'pop',\n",
              " 'remove',\n",
              " 'reverse',\n",
              " 'sort']"
            ]
          },
          "metadata": {
            "tags": []
          },
          "execution_count": 6
        }
      ]
    },
    {
      "cell_type": "code",
      "metadata": {
        "colab": {
          "base_uri": "https://localhost:8080/"
        },
        "id": "c1Jg0xEBgYdc",
        "outputId": "0e65d554-0ebb-4ef4-d25a-0b8830ff88f4"
      },
      "source": [
        "a.append(100)\n",
        "a"
      ],
      "execution_count": null,
      "outputs": [
        {
          "output_type": "execute_result",
          "data": {
            "text/plain": [
              "[1000, 20, 30, 40, 50, 60, 70, 15, 100, 100, 100, 100, 100, 100, 100]"
            ]
          },
          "metadata": {
            "tags": []
          },
          "execution_count": 12
        }
      ]
    },
    {
      "cell_type": "code",
      "metadata": {
        "colab": {
          "base_uri": "https://localhost:8080/"
        },
        "id": "MOxnrWUugxhl",
        "outputId": "a5c98bb1-604a-4c94-c1be-41a388e40931"
      },
      "source": [
        "a.count(100)"
      ],
      "execution_count": null,
      "outputs": [
        {
          "output_type": "execute_result",
          "data": {
            "text/plain": [
              "7"
            ]
          },
          "metadata": {
            "tags": []
          },
          "execution_count": 13
        }
      ]
    },
    {
      "cell_type": "code",
      "metadata": {
        "colab": {
          "base_uri": "https://localhost:8080/"
        },
        "id": "r-Xgl1W4g6Fc",
        "outputId": "bad170f0-4e7d-49f9-f114-d2ebf35890ab"
      },
      "source": [
        "a.sort()\n",
        "a"
      ],
      "execution_count": null,
      "outputs": [
        {
          "output_type": "execute_result",
          "data": {
            "text/plain": [
              "[15, 20, 30, 40, 50, 60, 70, 100, 100, 100, 100, 100, 100, 100, 1000]"
            ]
          },
          "metadata": {
            "tags": []
          },
          "execution_count": 14
        }
      ]
    },
    {
      "cell_type": "code",
      "metadata": {
        "colab": {
          "base_uri": "https://localhost:8080/"
        },
        "id": "AX_GaYsjg-X9",
        "outputId": "21eb316b-265d-4992-805c-a428af56169e"
      },
      "source": [
        "a.reverse()\n",
        "a"
      ],
      "execution_count": null,
      "outputs": [
        {
          "output_type": "execute_result",
          "data": {
            "text/plain": [
              "[1000, 100, 100, 100, 100, 100, 100, 100, 70, 60, 50, 40, 30, 20, 15]"
            ]
          },
          "metadata": {
            "tags": []
          },
          "execution_count": 17
        }
      ]
    },
    {
      "cell_type": "markdown",
      "metadata": {
        "id": "1iZ43-1Uiqdk"
      },
      "source": [
        "## 튜플, 딕셔너리, 셋"
      ]
    },
    {
      "cell_type": "code",
      "metadata": {
        "colab": {
          "base_uri": "https://localhost:8080/"
        },
        "id": "fXkSHHllists",
        "outputId": "2c4fe560-1d46-4926-a5b2-8dd686949715"
      },
      "source": [
        "# 튜플은 순서가 있고 값을 변경할 수 없습니다.\n",
        "\n",
        "t = (10, 20, 30)\n",
        "t"
      ],
      "execution_count": null,
      "outputs": [
        {
          "output_type": "execute_result",
          "data": {
            "text/plain": [
              "(10, 20, 30)"
            ]
          },
          "metadata": {
            "tags": []
          },
          "execution_count": 18
        }
      ]
    },
    {
      "cell_type": "code",
      "metadata": {
        "colab": {
          "base_uri": "https://localhost:8080/"
        },
        "id": "20PNWPGGi6Nl",
        "outputId": "51bbaa8c-3615-4137-eb38-dba0a4bacf16"
      },
      "source": [
        "dir(t)"
      ],
      "execution_count": null,
      "outputs": [
        {
          "output_type": "execute_result",
          "data": {
            "text/plain": [
              "['__add__',\n",
              " '__class__',\n",
              " '__contains__',\n",
              " '__delattr__',\n",
              " '__dir__',\n",
              " '__doc__',\n",
              " '__eq__',\n",
              " '__format__',\n",
              " '__ge__',\n",
              " '__getattribute__',\n",
              " '__getitem__',\n",
              " '__getnewargs__',\n",
              " '__gt__',\n",
              " '__hash__',\n",
              " '__init__',\n",
              " '__init_subclass__',\n",
              " '__iter__',\n",
              " '__le__',\n",
              " '__len__',\n",
              " '__lt__',\n",
              " '__mul__',\n",
              " '__ne__',\n",
              " '__new__',\n",
              " '__reduce__',\n",
              " '__reduce_ex__',\n",
              " '__repr__',\n",
              " '__rmul__',\n",
              " '__setattr__',\n",
              " '__sizeof__',\n",
              " '__str__',\n",
              " '__subclasshook__',\n",
              " 'count',\n",
              " 'index']"
            ]
          },
          "metadata": {
            "tags": []
          },
          "execution_count": 19
        }
      ]
    },
    {
      "cell_type": "code",
      "metadata": {
        "colab": {
          "base_uri": "https://localhost:8080/",
          "height": 35
        },
        "id": "j8PDcic7mwQt",
        "outputId": "b11da112-abde-4cd3-fec6-586cddcd36e7"
      },
      "source": [
        "# 딕셔너리 (key : value) 형태로 매칭\n",
        "\n",
        "영한번역 = {'one' : '하나', 'two' : '둘'}\n",
        "영한번역['one']"
      ],
      "execution_count": null,
      "outputs": [
        {
          "output_type": "execute_result",
          "data": {
            "application/vnd.google.colaboratory.intrinsic+json": {
              "type": "string"
            },
            "text/plain": [
              "'하나'"
            ]
          },
          "metadata": {
            "tags": []
          },
          "execution_count": 35
        }
      ]
    },
    {
      "cell_type": "code",
      "metadata": {
        "colab": {
          "base_uri": "https://localhost:8080/"
        },
        "id": "QwOLPyMcn6HN",
        "outputId": "5f11a2c0-2134-43f9-e38c-ca785f3cddea"
      },
      "source": [
        "#셋 (집합, 합집합, 차집합, 교집합)\n",
        "\n",
        "s = {10, 20, 30, 30, 30}\n",
        "s"
      ],
      "execution_count": null,
      "outputs": [
        {
          "output_type": "execute_result",
          "data": {
            "text/plain": [
              "{10, 20, 30}"
            ]
          },
          "metadata": {
            "tags": []
          },
          "execution_count": 23
        }
      ]
    },
    {
      "cell_type": "code",
      "metadata": {
        "colab": {
          "base_uri": "https://localhost:8080/"
        },
        "id": "Oa18poVGoM5M",
        "outputId": "70f14c10-8d86-455e-a1bd-eaa6fc154389"
      },
      "source": [
        "s = {10, 20, 30, 30, 30}\n",
        "ss = {10, 40, 50}\n",
        "s | ss  #합집합\n",
        "s & ss  #교집합\n",
        "s - ss  #차집합"
      ],
      "execution_count": null,
      "outputs": [
        {
          "output_type": "execute_result",
          "data": {
            "text/plain": [
              "{20, 30}"
            ]
          },
          "metadata": {
            "tags": []
          },
          "execution_count": 25
        }
      ]
    },
    {
      "cell_type": "markdown",
      "metadata": {
        "id": "PnuKWFbkougM"
      },
      "source": [
        "f-string"
      ]
    },
    {
      "cell_type": "code",
      "metadata": {
        "colab": {
          "base_uri": "https://localhost:8080/"
        },
        "id": "hRzSN69Pox6t",
        "outputId": "cb4f0433-9530-4043-b8ad-172b01b29b1d"
      },
      "source": [
        "age = 10\n",
        "name = 'leehojun'\n",
        "print('제 이름은 leehojun 입니다. 제 나이는 10 살입니다.')\n",
        "print('제 이름은', name,'입니다. 제 나이는', age, '살입니다.')\n",
        "print('제 이름은 {0} 입니다. 제 나이는 {1} 살입니다.' .format(name,age))   \n",
        "\n",
        "print(f'제 이름은 {name} 입니다. 제 나이는 {age+age} 살입니다.')  #이것만 사용합니다.\n",
        "\n"
      ],
      "execution_count": null,
      "outputs": [
        {
          "output_type": "stream",
          "text": [
            "제 이름은 leehojun 입니다. 제 나이는 10 살입니다.\n",
            "제 이름은 leehojun 입니다. 제 나이는 10 살입니다.\n",
            "제 이름은 leehojun 입니다. 제 나이는 10 살입니다.\n",
            "제 이름은 leehojun 입니다. 제 나이는 20 살입니다.\n"
          ],
          "name": "stdout"
        }
      ]
    },
    {
      "cell_type": "markdown",
      "metadata": {
        "id": "5HCsCqo7rupN"
      },
      "source": [
        "## built in function\n",
        "\n",
        "* abs() : 절댓값\n",
        "* min() : 최솟값\n",
        "* max() : 최댓값\n",
        "* dir() : 매서드 확인\n",
        "* id() : 메모리 주소 확인\n",
        "* sorted() : 정렬\n",
        "* reversed() : 역순(역정렬 아님)\n",
        "* enumerate() : 순서를 매김 (for 하면서 설명)\n",
        "\n",
        "\n",
        "* 형변환 : \n",
        "  * set() : 집합으로 형변환\n",
        "  * dict() : 딕셔너리로 형변환\n",
        "  * bool() : 불리언으로 형변환\n",
        "  * int() : 정수형으로 형변환\n",
        "  * str() : 문자열로 형변환\n",
        "  * float() : 실수형으로 형변환\n",
        "  * tuple() : 튜플형으로 형변환\n",
        "  * list() : 리스트를 형변환\n",
        "\n",
        "* ord() : 문자를 숫자로 변환\n",
        "* chr() : 숫자를 문자로 변환\n",
        "* sum() : 전부 더함(더할 수 없으면 에러)\n",
        "* filter() : 필터링(수학 점수 90점 이상인 사람?)\n",
        "* print() : 출력\n",
        "* format() : 콤마찍기   #format(1000000, ',')\n",
        "* len() : 길이 출력 !! 중요 !!!!!!!\n",
        "* type() : 타입 알아보기 !! 중요 !!\n",
        "* range() : 연속된 값 생성(0 ~ 99 -> range(100))\n",
        "* zip('abc', 'def')\n",
        "* map(lambda x : x**2,[1,2,3]) \n",
        "* round() : 소수점 자리 반올림\n",
        "\n",
        "\n",
        "\n"
      ]
    },
    {
      "cell_type": "markdown",
      "metadata": {
        "id": "P1oDQHtqMRim"
      },
      "source": [
        ""
      ]
    },
    {
      "cell_type": "code",
      "metadata": {
        "colab": {
          "base_uri": "https://localhost:8080/"
        },
        "id": "pobSH1Ucwch9",
        "outputId": "795a34e1-1bba-4e84-a699-88287c29c82c"
      },
      "source": [
        "list(zip('abc', 'def', 'aaa', 'bbb'))"
      ],
      "execution_count": null,
      "outputs": [
        {
          "output_type": "execute_result",
          "data": {
            "text/plain": [
              "[('a', 'd', 'a', 'b'), ('b', 'e', 'a', 'b'), ('c', 'f', 'a', 'b')]"
            ]
          },
          "metadata": {
            "tags": []
          },
          "execution_count": 43
        }
      ]
    },
    {
      "cell_type": "code",
      "metadata": {
        "colab": {
          "base_uri": "https://localhost:8080/"
        },
        "id": "uCOEKYI7wgEk",
        "outputId": "cc51b997-80d2-47c8-8c08-0277fc58c020"
      },
      "source": [
        "list(map(lambda x : x**2,[1,2,3]))"
      ],
      "execution_count": null,
      "outputs": [
        {
          "output_type": "execute_result",
          "data": {
            "text/plain": [
              "[1, 4, 9]"
            ]
          },
          "metadata": {
            "tags": []
          },
          "execution_count": 40
        }
      ]
    },
    {
      "cell_type": "markdown",
      "metadata": {
        "id": "qbnAbmoa0J22"
      },
      "source": [
        "## 조건문"
      ]
    },
    {
      "cell_type": "code",
      "metadata": {
        "colab": {
          "base_uri": "https://localhost:8080/"
        },
        "id": "yRKANT_Q1D9G",
        "outputId": "d4cdf233-d40b-48ae-afed-ed3fb3e89f18"
      },
      "source": [
        "if False :\n",
        "  print('hello')\n",
        "print('end')"
      ],
      "execution_count": null,
      "outputs": [
        {
          "output_type": "stream",
          "text": [
            "end\n"
          ],
          "name": "stdout"
        }
      ]
    },
    {
      "cell_type": "code",
      "metadata": {
        "colab": {
          "base_uri": "https://localhost:8080/"
        },
        "id": "cECMYMtD0LwC",
        "outputId": "47eb3174-05f3-4683-fd99-8f6fdb5763e4"
      },
      "source": [
        "score = 89\n",
        "money = 0\n",
        "\n",
        "if score > 90 :\n",
        "  print('mom : i\\'m so happy')\n",
        "  money += 1000000  #money = money + 1000000, 할당연산이라 부릅니다.\n",
        "elif score > 80 :\n",
        "  print('mom : i\\'m happy')\n",
        "  money += 100000\n",
        "elif score > 70 :\n",
        "  print('mom : happy?')\n",
        "  money += 10000\n",
        "else:\n",
        "  print('mom : ...')\n",
        "\n",
        "print(money)\n"
      ],
      "execution_count": null,
      "outputs": [
        {
          "output_type": "stream",
          "text": [
            "mom : i'm happy\n",
            "100000\n"
          ],
          "name": "stdout"
        }
      ]
    },
    {
      "cell_type": "markdown",
      "metadata": {
        "id": "lpjo20iU2nvm"
      },
      "source": [
        "## 문제 풀이와 업다운 게임 제작"
      ]
    },
    {
      "cell_type": "code",
      "metadata": {
        "colab": {
          "base_uri": "https://localhost:8080/"
        },
        "id": "9rcA2MD72sCm",
        "outputId": "ccce4197-df18-4e78-e165-345973502947"
      },
      "source": [
        "str(list(range(100)))\n",
        "str(list(range(100))).count('8')\n",
        "str(list(range(10001))).count('8')\n"
      ],
      "execution_count": null,
      "outputs": [
        {
          "output_type": "execute_result",
          "data": {
            "text/plain": [
              "4000"
            ]
          },
          "metadata": {
            "tags": []
          },
          "execution_count": 54
        }
      ]
    },
    {
      "cell_type": "code",
      "metadata": {
        "id": "lpACGWo54rE2"
      },
      "source": [
        "리스트 = [1, 3, 4, 8, 13, 17, 20]\n",
        "리스트둘 = 리스트[1:]"
      ],
      "execution_count": null,
      "outputs": []
    },
    {
      "cell_type": "code",
      "metadata": {
        "colab": {
          "base_uri": "https://localhost:8080/"
        },
        "id": "eEaXNfia5KbO",
        "outputId": "d80140b0-758a-4c97-8479-011d4fa33c30"
      },
      "source": [
        "list(zip(리스트, 리스트둘))"
      ],
      "execution_count": null,
      "outputs": [
        {
          "output_type": "execute_result",
          "data": {
            "text/plain": [
              "[(1, 3), (3, 4), (4, 8), (8, 13), (13, 17), (17, 20)]"
            ]
          },
          "metadata": {
            "tags": []
          },
          "execution_count": 59
        }
      ]
    },
    {
      "cell_type": "code",
      "metadata": {
        "colab": {
          "base_uri": "https://localhost:8080/"
        },
        "id": "ewrA7Kvj5WH2",
        "outputId": "06fd1c1b-915d-4645-d8a4-033502bff6cf"
      },
      "source": [
        "묶어준리스트 = list(zip(리스트, 리스트둘))\n",
        "묶어준리스트.sort(key = lambda x:x[0]-x[1], reverse = True)\n",
        "묶어준리스트\n",
        "묶어준리스트[0]"
      ],
      "execution_count": null,
      "outputs": [
        {
          "output_type": "execute_result",
          "data": {
            "text/plain": [
              "(3, 4)"
            ]
          },
          "metadata": {
            "tags": []
          },
          "execution_count": 60
        }
      ]
    },
    {
      "cell_type": "code",
      "metadata": {
        "colab": {
          "base_uri": "https://localhost:8080/"
        },
        "id": "pb8BlGgJ5_zu",
        "outputId": "21eac2ec-e634-430a-875d-87be9622fafa"
      },
      "source": [
        "l = ['a','bbb','cc','eeeee','ffff']\n",
        "l.sort(key =len)   #key = 함수\n",
        "l"
      ],
      "execution_count": null,
      "outputs": [
        {
          "output_type": "execute_result",
          "data": {
            "text/plain": [
              "['a', 'cc', 'bbb', 'ffff', 'eeeee']"
            ]
          },
          "metadata": {
            "tags": []
          },
          "execution_count": 68
        }
      ]
    },
    {
      "cell_type": "code",
      "metadata": {
        "colab": {
          "base_uri": "https://localhost:8080/"
        },
        "id": "z0quiI_s6_6e",
        "outputId": "557740bf-f2ec-47a8-8ac7-6ecf86ca9c57"
      },
      "source": [
        "import random \n",
        "\n",
        "정답 = random.randint(1, 100)\n",
        "\n",
        "while True :\n",
        "  user = int(input('숫자를 입력해주세요.'))\n",
        "  if user < 정답 :\n",
        "    print('Up')\n",
        "  elif user > 정답 : \n",
        "    print('Down')\n",
        "  else : \n",
        "    print(\"정답\")\n",
        "    break"
      ],
      "execution_count": null,
      "outputs": [
        {
          "output_type": "stream",
          "text": [
            "숫자를 입력해주세요.40\n",
            "Down\n",
            "숫자를 입력해주세요.30\n",
            "Down\n",
            "숫자를 입력해주세요.20\n",
            "Down\n",
            "숫자를 입력해주세요.10\n",
            "Down\n",
            "숫자를 입력해주세요.5\n",
            "Up\n",
            "숫자를 입력해주세요.8\n",
            "Up\n",
            "숫자를 입력해주세요.9\n",
            "정답\n"
          ],
          "name": "stdout"
        }
      ]
    },
    {
      "cell_type": "markdown",
      "metadata": {
        "id": "tVTozIS6-W3O"
      },
      "source": [
        "##반복문"
      ]
    },
    {
      "cell_type": "code",
      "metadata": {
        "id": "Zdn7ywlD-WR3"
      },
      "source": [
        "for i in range(10) :\n",
        "  print(i)"
      ],
      "execution_count": null,
      "outputs": []
    },
    {
      "cell_type": "code",
      "metadata": {
        "colab": {
          "base_uri": "https://localhost:8080/"
        },
        "id": "JoZR54MzBrd_",
        "outputId": "76788449-4979-4570-85ff-914abc4ea37e"
      },
      "source": [
        "list(range(10))  #stop\n",
        "list(range(0, 10, 2))  #start, stop, step\n",
        "list(range(5, 10))  #start, stop\n",
        "list(range(10, 5, -1))  #start, stop, step\n"
      ],
      "execution_count": null,
      "outputs": [
        {
          "output_type": "execute_result",
          "data": {
            "text/plain": [
              "[10, 9, 8, 7, 6]"
            ]
          },
          "metadata": {
            "tags": []
          },
          "execution_count": 77
        }
      ]
    },
    {
      "cell_type": "code",
      "metadata": {
        "colab": {
          "base_uri": "https://localhost:8080/"
        },
        "id": "BoD5r55lCSh_",
        "outputId": "48927f25-cc6a-479b-f80a-07e47da99631"
      },
      "source": [
        "s = 0\n",
        "for i in range(101) :\n",
        "  s = s + i   #s+=1\n",
        "\n",
        "\n",
        "print(s)\n",
        "\n",
        "\n",
        "\n"
      ],
      "execution_count": null,
      "outputs": [
        {
          "output_type": "stream",
          "text": [
            "5050\n"
          ],
          "name": "stdout"
        }
      ]
    },
    {
      "cell_type": "code",
      "metadata": {
        "colab": {
          "base_uri": "https://localhost:8080/"
        },
        "id": "B5r6vMUDCmGd",
        "outputId": "776aaa66-ef18-48a9-d33f-2c8308fcfec0"
      },
      "source": [
        "s = 0\n",
        "for i in range(101) :\n",
        "  if i%2==0 :\n",
        "    s = s + i\n",
        "\n",
        "print(s)\n",
        "#0부터 100까지 짝수만 더하세용"
      ],
      "execution_count": null,
      "outputs": [
        {
          "output_type": "stream",
          "text": [
            "2550\n"
          ],
          "name": "stdout"
        }
      ]
    },
    {
      "cell_type": "code",
      "metadata": {
        "colab": {
          "base_uri": "https://localhost:8080/"
        },
        "id": "V_bBAIO8DgT3",
        "outputId": "f8b47830-51f9-46a2-a824-abf1eb7417b1"
      },
      "source": [
        "s = 0\n",
        "for i in range(0,101,2) :\n",
        "  s = s + i   #s+=1\n",
        "\n",
        "\n",
        "print(s)\n",
        "#0부터 100까지 짝수만 더하세용"
      ],
      "execution_count": null,
      "outputs": [
        {
          "output_type": "stream",
          "text": [
            "2550\n"
          ],
          "name": "stdout"
        }
      ]
    },
    {
      "cell_type": "code",
      "metadata": {
        "colab": {
          "base_uri": "https://localhost:8080/"
        },
        "id": "rBzt45hIDpse",
        "outputId": "a865f57b-366a-4f54-fb12-1911a1a47997"
      },
      "source": [
        "sum(range(0,101,2))\n",
        "\n",
        "#0부터 100까지 짝수만 더하세용"
      ],
      "execution_count": null,
      "outputs": [
        {
          "output_type": "execute_result",
          "data": {
            "text/plain": [
              "2550"
            ]
          },
          "metadata": {
            "tags": []
          },
          "execution_count": 84
        }
      ]
    },
    {
      "cell_type": "code",
      "metadata": {
        "colab": {
          "base_uri": "https://localhost:8080/"
        },
        "id": "9aGTfrJzEo2_",
        "outputId": "457d476b-fbc9-4959-b2b3-a91ffb4b7457"
      },
      "source": [
        "for i in range(1, 10):\n",
        "  print(f'{2} X {i} = {2 * i}')"
      ],
      "execution_count": null,
      "outputs": [
        {
          "output_type": "stream",
          "text": [
            "2 X 1 = 2\n",
            "2 X 2 = 4\n",
            "2 X 3 = 6\n",
            "2 X 4 = 8\n",
            "2 X 5 = 10\n",
            "2 X 6 = 12\n",
            "2 X 7 = 14\n",
            "2 X 8 = 16\n",
            "2 X 9 = 18\n"
          ],
          "name": "stdout"
        }
      ]
    },
    {
      "cell_type": "code",
      "metadata": {
        "colab": {
          "base_uri": "https://localhost:8080/"
        },
        "id": "GDd2OH1OE4-5",
        "outputId": "5522562f-97a8-4cd5-95ef-e963d7716e44"
      },
      "source": [
        "for i in range(2, 10):\n",
        "  for j in range(1, 10):\n",
        "    print(f'{i} X {j} = {i * j}')"
      ],
      "execution_count": null,
      "outputs": [
        {
          "output_type": "stream",
          "text": [
            "2 X 1 = 2\n",
            "2 X 2 = 4\n",
            "2 X 3 = 6\n",
            "2 X 4 = 8\n",
            "2 X 5 = 10\n",
            "2 X 6 = 12\n",
            "2 X 7 = 14\n",
            "2 X 8 = 16\n",
            "2 X 9 = 18\n",
            "3 X 1 = 3\n",
            "3 X 2 = 6\n",
            "3 X 3 = 9\n",
            "3 X 4 = 12\n",
            "3 X 5 = 15\n",
            "3 X 6 = 18\n",
            "3 X 7 = 21\n",
            "3 X 8 = 24\n",
            "3 X 9 = 27\n",
            "4 X 1 = 4\n",
            "4 X 2 = 8\n",
            "4 X 3 = 12\n",
            "4 X 4 = 16\n",
            "4 X 5 = 20\n",
            "4 X 6 = 24\n",
            "4 X 7 = 28\n",
            "4 X 8 = 32\n",
            "4 X 9 = 36\n",
            "5 X 1 = 5\n",
            "5 X 2 = 10\n",
            "5 X 3 = 15\n",
            "5 X 4 = 20\n",
            "5 X 5 = 25\n",
            "5 X 6 = 30\n",
            "5 X 7 = 35\n",
            "5 X 8 = 40\n",
            "5 X 9 = 45\n",
            "6 X 1 = 6\n",
            "6 X 2 = 12\n",
            "6 X 3 = 18\n",
            "6 X 4 = 24\n",
            "6 X 5 = 30\n",
            "6 X 6 = 36\n",
            "6 X 7 = 42\n",
            "6 X 8 = 48\n",
            "6 X 9 = 54\n",
            "7 X 1 = 7\n",
            "7 X 2 = 14\n",
            "7 X 3 = 21\n",
            "7 X 4 = 28\n",
            "7 X 5 = 35\n",
            "7 X 6 = 42\n",
            "7 X 7 = 49\n",
            "7 X 8 = 56\n",
            "7 X 9 = 63\n",
            "8 X 1 = 8\n",
            "8 X 2 = 16\n",
            "8 X 3 = 24\n",
            "8 X 4 = 32\n",
            "8 X 5 = 40\n",
            "8 X 6 = 48\n",
            "8 X 7 = 56\n",
            "8 X 8 = 64\n",
            "8 X 9 = 72\n",
            "9 X 1 = 9\n",
            "9 X 2 = 18\n",
            "9 X 3 = 27\n",
            "9 X 4 = 36\n",
            "9 X 5 = 45\n",
            "9 X 6 = 54\n",
            "9 X 7 = 63\n",
            "9 X 8 = 72\n",
            "9 X 9 = 81\n"
          ],
          "name": "stdout"
        }
      ]
    },
    {
      "cell_type": "code",
      "metadata": {
        "colab": {
          "base_uri": "https://localhost:8080/"
        },
        "id": "BilLhbKaGRhn",
        "outputId": "1fb7c047-a4da-4839-cd86-04de097edd86"
      },
      "source": [
        "x = 0\n",
        "while x < 10 :\n",
        "  print(x)\n",
        "  x += 1"
      ],
      "execution_count": null,
      "outputs": [
        {
          "output_type": "stream",
          "text": [
            "0\n",
            "1\n",
            "2\n",
            "3\n",
            "4\n",
            "5\n",
            "6\n",
            "7\n",
            "8\n",
            "9\n"
          ],
          "name": "stdout"
        }
      ]
    },
    {
      "cell_type": "code",
      "metadata": {
        "colab": {
          "base_uri": "https://localhost:8080/"
        },
        "id": "VccpzRmAGg8n",
        "outputId": "c1328547-d753-4068-b3ed-67ce17039476"
      },
      "source": [
        "#2단만 while 문으로 출력\n",
        "\n",
        "x = 1\n",
        "while x < 10:\n",
        "  print(f'{2} X {x} = {2 * x}')\n",
        "  x += 1\n",
        "\n",
        "print(x)"
      ],
      "execution_count": null,
      "outputs": [
        {
          "output_type": "stream",
          "text": [
            "2 X 1 = 2\n",
            "2 X 2 = 4\n",
            "2 X 3 = 6\n",
            "2 X 4 = 8\n",
            "2 X 5 = 10\n",
            "2 X 6 = 12\n",
            "2 X 7 = 14\n",
            "2 X 8 = 16\n",
            "2 X 9 = 18\n",
            "10\n"
          ],
          "name": "stdout"
        }
      ]
    },
    {
      "cell_type": "code",
      "metadata": {
        "colab": {
          "base_uri": "https://localhost:8080/"
        },
        "id": "p5tA2ZmnHsOH",
        "outputId": "ceccbfbd-e489-4f3a-c352-75c6157086b1"
      },
      "source": [
        "for j in range(1, 10):\n",
        "  print(f'{i} X {j} = {i * j}')\n",
        "\n",
        "print(i)"
      ],
      "execution_count": null,
      "outputs": [
        {
          "output_type": "stream",
          "text": [
            "9 X 1 = 9\n",
            "9 X 2 = 18\n",
            "9 X 3 = 27\n",
            "9 X 4 = 36\n",
            "9 X 5 = 45\n",
            "9 X 6 = 54\n",
            "9 X 7 = 63\n",
            "9 X 8 = 72\n",
            "9 X 9 = 81\n",
            "9\n"
          ],
          "name": "stdout"
        }
      ]
    },
    {
      "cell_type": "markdown",
      "metadata": {
        "id": "rF3uohKAH9Ku"
      },
      "source": [
        "## 모듈"
      ]
    },
    {
      "cell_type": "code",
      "metadata": {
        "id": "ygTiFnR6H-uA"
      },
      "source": [
        "# filename = test.py\n",
        "# name = 'leehojun'\n",
        "# age = 10"
      ],
      "execution_count": null,
      "outputs": []
    },
    {
      "cell_type": "code",
      "metadata": {
        "colab": {
          "base_uri": "https://localhost:8080/"
        },
        "id": "8DoGU6MaINp_",
        "outputId": "228620b3-9c53-4af7-e85e-50c4442e98e8"
      },
      "source": [
        "# import test\n",
        "import test as t\n",
        "\n",
        "print(t.name)\n",
        "print(t.age)"
      ],
      "execution_count": null,
      "outputs": [
        {
          "output_type": "stream",
          "text": [
            "leehojun\n",
            "10\n"
          ],
          "name": "stdout"
        }
      ]
    },
    {
      "cell_type": "code",
      "metadata": {
        "colab": {
          "base_uri": "https://localhost:8080/"
        },
        "id": "P8sAWvBmKPkP",
        "outputId": "121007d6-0e61-4042-b2ae-19c0148c2266"
      },
      "source": [
        "# 잘 사용하지 않습니다 ! 모듈이 겹치지 않을 때 사용해야 한다 !\n",
        "from test import name, age\n",
        "\n",
        "\n",
        "print(name)\n",
        "print(age)"
      ],
      "execution_count": null,
      "outputs": [
        {
          "output_type": "stream",
          "text": [
            "leehojun\n",
            "10\n"
          ],
          "name": "stdout"
        }
      ]
    },
    {
      "cell_type": "markdown",
      "metadata": {
        "id": "kNZTQarx7ol_"
      },
      "source": [
        "## 함수\n",
        "\n",
        "1. 재사용성을 높일 수 있다.\n",
        "2. 코드의 구조를 파악하기 쉽다.\n",
        "3. 유지보수를 쉽게 할 수 있다."
      ]
    },
    {
      "cell_type": "code",
      "metadata": {
        "colab": {
          "base_uri": "https://localhost:8080/"
        },
        "id": "p9OVE4507qm3",
        "outputId": "20bbd4f1-9a06-46f3-96e7-2aebbee2ebdc"
      },
      "source": [
        "def 더하기(x, y) :\n",
        "  return x + y\n",
        "\n",
        "더하기(10,20)"
      ],
      "execution_count": 10,
      "outputs": [
        {
          "output_type": "execute_result",
          "data": {
            "text/plain": [
              "30"
            ]
          },
          "metadata": {
            "tags": []
          },
          "execution_count": 10
        }
      ]
    },
    {
      "cell_type": "code",
      "metadata": {
        "colab": {
          "base_uri": "https://localhost:8080/"
        },
        "id": "2Q7RRG3R8HUn",
        "outputId": "4757326d-6933-4d69-903f-b1209aaecbf6"
      },
      "source": [
        "def 원의넓이(r) :\n",
        "  return (r**2) * 3.14\n",
        "\n",
        "\n",
        "print(원의넓이(10) + 100)\n",
        "print(원의넓이(10) + 50)"
      ],
      "execution_count": 12,
      "outputs": [
        {
          "output_type": "stream",
          "text": [
            "414.0\n",
            "364.0\n"
          ],
          "name": "stdout"
        }
      ]
    },
    {
      "cell_type": "code",
      "metadata": {
        "colab": {
          "base_uri": "https://localhost:8080/"
        },
        "id": "MsOxyHsY8c1l",
        "outputId": "e137cb33-2cb7-4f2d-b5d6-c12967515e70"
      },
      "source": [
        "점수 = [10, 20, 30, 40]\n",
        "def 평균(반점수) : \n",
        "  s = 0\n",
        "  for i in 반점수 :\n",
        "    s += i\n",
        "  return s/ len(반점수)\n",
        "\n",
        "print(평균(점수))\n",
        "print(평균(점수) + 5)\n"
      ],
      "execution_count": 14,
      "outputs": [
        {
          "output_type": "stream",
          "text": [
            "25.0\n",
            "30.0\n"
          ],
          "name": "stdout"
        }
      ]
    },
    {
      "cell_type": "markdown",
      "metadata": {
        "id": "4Bc0SGYJK6tw"
      },
      "source": [
        "## 파일 입출력"
      ]
    },
    {
      "cell_type": "code",
      "metadata": {
        "id": "K4Xps2BgK8n3"
      },
      "source": [
        "f = open('구구단.txt', 'w')  #r(읽음), w(작성, 덮어씀), a(추가)\n",
        "data = ''\n",
        "for 단 in range(2, 10):\n",
        "  for j in range(1, 10):\n",
        "    data += f'{단} X {j} = {단 * j}\\n'\n",
        "f.write(data)\n",
        "f.close()\n",
        "\n",
        "\n",
        "# \\n = 줄바꿈"
      ],
      "execution_count": null,
      "outputs": []
    },
    {
      "cell_type": "markdown",
      "metadata": {
        "id": "plLlg0344AUH"
      },
      "source": [
        "## 클래스\n",
        "\n",
        "* 현실세계의 개념을 Code로 옮겨놓은 것\n",
        "* 클래스의 첫 문자열은 대문자로 합니다. (class 'C'ar)"
      ]
    },
    {
      "cell_type": "code",
      "metadata": {
        "id": "olqR4_XI4QQv"
      },
      "source": [
        "class Car : \n",
        "  # 클래스 변수 또는 맴버\n",
        "  maxspeed = 300\n",
        "  maxpeople = 5\n",
        "\n",
        "  # 메서드\n",
        "  def start(self) : \n",
        "    print('출발하였습니다.')\n",
        "  \n",
        "  def stop(self) : \n",
        "    print('멈췄습니다.')"
      ],
      "execution_count": 7,
      "outputs": []
    },
    {
      "cell_type": "code",
      "metadata": {
        "colab": {
          "base_uri": "https://localhost:8080/"
        },
        "id": "rLKPnJCI5VlX",
        "outputId": "11afd46d-dedb-4017-f265-815022cfdc61"
      },
      "source": [
        "audi = Car()  # audi라는 인스턴스 생성\n",
        "bmw = Car()  # bmw라는 인스턴스 생성\n",
        "\n",
        "audi.start()\n",
        "print(audi.maxpeople)\n",
        "print(Car.maxspeed)  # 이렇게 실행하시면 안 됩니다."
      ],
      "execution_count": 8,
      "outputs": [
        {
          "output_type": "stream",
          "text": [
            "출발하였습니다.\n",
            "5\n",
            "300\n"
          ],
          "name": "stdout"
        }
      ]
    },
    {
      "cell_type": "code",
      "metadata": {
        "colab": {
          "base_uri": "https://localhost:8080/"
        },
        "id": "4m_crc5L6f5Y",
        "outputId": "44f406da-53d2-4644-ea68-3a2ba3476996"
      },
      "source": [
        "dir(audi)"
      ],
      "execution_count": 9,
      "outputs": [
        {
          "output_type": "execute_result",
          "data": {
            "text/plain": [
              "['__class__',\n",
              " '__delattr__',\n",
              " '__dict__',\n",
              " '__dir__',\n",
              " '__doc__',\n",
              " '__eq__',\n",
              " '__format__',\n",
              " '__ge__',\n",
              " '__getattribute__',\n",
              " '__gt__',\n",
              " '__hash__',\n",
              " '__init__',\n",
              " '__init_subclass__',\n",
              " '__le__',\n",
              " '__lt__',\n",
              " '__module__',\n",
              " '__ne__',\n",
              " '__new__',\n",
              " '__reduce__',\n",
              " '__reduce_ex__',\n",
              " '__repr__',\n",
              " '__setattr__',\n",
              " '__sizeof__',\n",
              " '__str__',\n",
              " '__subclasshook__',\n",
              " '__weakref__',\n",
              " 'maxpeople',\n",
              " 'maxspeed',\n",
              " 'start',\n",
              " 'stop']"
            ]
          },
          "metadata": {
            "tags": []
          },
          "execution_count": 9
        }
      ]
    },
    {
      "cell_type": "code",
      "metadata": {
        "colab": {
          "base_uri": "https://localhost:8080/"
        },
        "id": "V2osq9av6vQ-",
        "outputId": "589f3d34-7a53-4766-8592-816cd9f6acab"
      },
      "source": [
        "class 전기차(Car):\n",
        "  배터리 = 100\n",
        "  배터리에_따라_갈_수_있는_거리 = 300\n",
        "\n",
        "전기차audi = 전기차()\n",
        "전기차audi.start()\n",
        "  "
      ],
      "execution_count": 16,
      "outputs": [
        {
          "output_type": "stream",
          "text": [
            "출발하였습니다.\n"
          ],
          "name": "stdout"
        }
      ]
    },
    {
      "cell_type": "markdown",
      "metadata": {
        "id": "l4pxxiOOH9F9"
      },
      "source": [
        ""
      ]
    }
  ]
}